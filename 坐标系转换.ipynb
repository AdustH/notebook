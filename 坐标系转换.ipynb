{
 "cells": [
  {
   "cell_type": "markdown",
   "metadata": {},
   "source": [
    "# 飞行力学坐标系转换"
   ]
  },
  {
   "cell_type": "markdown",
   "metadata": {},
   "source": [
    "## 风轴系 to 体轴系"
   ]
  },
  {
   "cell_type": "markdown",
   "metadata": {},
   "source": [
    "风轴系坐标$X_a$ ， $Y_a$ ， $Z_a$  \n",
    "体轴系坐标$X_b$ ， $Y_b$ ， $Z_b$  "
   ]
  },
  {
   "cell_type": "code",
   "execution_count": 1,
   "metadata": {},
   "outputs": [],
   "source": [
    "using SymPy"
   ]
  },
  {
   "cell_type": "code",
   "execution_count": 2,
   "metadata": {},
   "outputs": [],
   "source": [
    "a = symbols(\"alpha\");\t\t       # or  @syms x\n",
    "b = symbols(\"beta\");\n",
    "p = symbols(\"rho\");\n",
    "var0 = symbols(\"varphi_0\");\n",
    "var = symbols(\"varphi\");\n",
    "z = symbols(\"z\");"
   ]
  },
  {
   "cell_type": "markdown",
   "metadata": {},
   "source": [
    "假设有一向量$\\vec{V}$，其在在风轴系下OX<sub>a</sub>Y<sub>a</sub>平面上投影的长度为$\\rho$，投影与X<sub>a</sub>轴的夹角为$\\varphi_0$\n",
    "\n",
    "则向量$\\vec{V}$，在风轴系下可以表示为："
   ]
  },
  {
   "cell_type": "code",
   "execution_count": 3,
   "metadata": {},
   "outputs": [
    {
     "data": {
      "text/latex": [
       "$\\left[ \\begin{array}{r}\\rho \\cos{\\left(\\varphi_{0} \\right)}\\\\\\rho \\sin{\\left(\\varphi_{0} \\right)}\\\\z\\end{array} \\right]$\n"
      ],
      "text/plain": [
       "3-element Vector{Sym}:\n",
       " ρ⋅cos(varphi₀)\n",
       " ρ⋅sin(varphi₀)\n",
       "                 z"
      ]
     },
     "execution_count": 3,
     "metadata": {},
     "output_type": "execute_result"
    }
   ],
   "source": [
    "V = [p*cos(var0); p*sin(var0); z]"
   ]
  },
  {
   "cell_type": "markdown",
   "metadata": {},
   "source": [
    "将$\\vec{V}$绕$Z_a$轴旋转$\\varphi$，则此时新的向量$\\vec{V'}$在风轴系下可以表示为："
   ]
  },
  {
   "cell_type": "code",
   "execution_count": 4,
   "metadata": {},
   "outputs": [
    {
     "data": {
      "text/latex": [
       "$\\left[ \\begin{array}{r}\\rho \\cos{\\left(\\varphi + \\varphi_{0} \\right)}\\\\\\rho \\sin{\\left(\\varphi + \\varphi_{0} \\right)}\\\\z\\end{array} \\right]$\n"
      ],
      "text/plain": [
       "3-element Vector{Sym}:\n",
       " ρ⋅cos(varphi + varphi₀)\n",
       " ρ⋅sin(varphi + varphi₀)\n",
       "                          z"
      ]
     },
     "execution_count": 4,
     "metadata": {},
     "output_type": "execute_result"
    }
   ],
   "source": [
    "V_1 = [p*cos(var0+var); p*sin(var0+var); z]"
   ]
  },
  {
   "cell_type": "markdown",
   "metadata": {},
   "source": [
    "也可以表示为："
   ]
  },
  {
   "cell_type": "code",
   "execution_count": 5,
   "metadata": {},
   "outputs": [
    {
     "data": {
      "text/latex": [
       "$\\left[ \\begin{array}{r}- \\rho \\sin{\\left(\\varphi \\right)} \\sin{\\left(\\varphi_{0} \\right)} + \\rho \\cos{\\left(\\varphi \\right)} \\cos{\\left(\\varphi_{0} \\right)}\\\\\\rho \\sin{\\left(\\varphi \\right)} \\cos{\\left(\\varphi_{0} \\right)} + \\rho \\sin{\\left(\\varphi_{0} \\right)} \\cos{\\left(\\varphi \\right)}\\\\z\\end{array} \\right]$\n"
      ],
      "text/plain": [
       "3-element Vector{Sym}:\n",
       " -ρ⋅sin(varphi)⋅sin(varphi₀) + ρ⋅cos(varphi)⋅cos(varphi₀)\n",
       "  ρ⋅sin(varphi)⋅cos(varphi₀) + ρ⋅sin(varphi₀)⋅cos(varphi)\n",
       "                                                              z"
      ]
     },
     "execution_count": 5,
     "metadata": {},
     "output_type": "execute_result"
    }
   ],
   "source": [
    "V_1 = [p*cos(var0)*cos(var)-p*sin(var0)*sin(var); p*sin(var0)*cos(var)+p*cos(var0)*sin(var); z]"
   ]
  },
  {
   "cell_type": "markdown",
   "metadata": {},
   "source": [
    "$\\vec{V}$绕$Z_b$轴旋转就是左乘一个转换矩阵A\n",
    "\n",
    "即 A · $\\vec{V}$ = $\\vec{V'}$"
   ]
  },
  {
   "cell_type": "markdown",
   "metadata": {},
   "source": [
    "$   A ·\n",
    "        \\begin{bmatrix}\n",
    "            \\rho · cos(\\varphi_0) \\\\\n",
    "            \\rho · sin(\\varphi_0)\\\\\n",
    "            z\n",
    "        \\end{bmatrix} \n",
    "    =   \\begin{bmatrix}\n",
    "            \\rho · cos(\\varphi_0) · cos(\\varphi) - \\rho · sin(\\varphi_0) · sin(\\varphi)\\\\\n",
    "            \\rho · sin(\\varphi_0) · cos(\\varphi) + \\rho · cos(\\varphi_0) · sin(\\varphi)\\\\\n",
    "            z\n",
    "        \\end{bmatrix} \n",
    "$\n",
    "\n",
    "易得：\n",
    "$   A ·\n",
    "        \\begin{bmatrix}\n",
    "            \\rho · cos(\\varphi_0) \\\\\n",
    "            \\rho · sin(\\varphi_0)\\\\\n",
    "            z\n",
    "        \\end{bmatrix} \n",
    "    =   \\begin{bmatrix}\n",
    "            cos(\\varphi) & -sin(\\varphi) & 0\\\\\n",
    "            sin(\\varphi) & cos(\\varphi) & 0\\\\\n",
    "            0 & 0 & 1\n",
    "        \\end{bmatrix} ·\n",
    "        \\begin{bmatrix}\n",
    "            \\rho · cos(\\varphi_0) \\\\\n",
    "            \\rho · sin(\\varphi_0)\\\\\n",
    "            z\n",
    "        \\end{bmatrix} \n",
    "$\n",
    "\n",
    "$\n",
    "    A = \\begin{bmatrix}\n",
    "            cos(\\varphi) & -sin(\\varphi) & 0\\\\\n",
    "            sin(\\varphi) & cos(\\varphi) & 0\\\\\n",
    "            0 & 0 & 1\n",
    "        \\end{bmatrix}\n",
    "$"
   ]
  },
  {
   "cell_type": "markdown",
   "metadata": {},
   "source": [
    "向量绕z轴转动$\\varphi$，实际上就是坐标轴绕z轴转动$-\\varphi$\n",
    "\n",
    "所以坐标轴绕z轴转动$\\varphi$的转换矩阵M_z可以表示为："
   ]
  },
  {
   "cell_type": "code",
   "execution_count": 6,
   "metadata": {},
   "outputs": [
    {
     "data": {
      "text/latex": [
       "$\\left[ \\begin{array}{rrr}\\cos{\\left(\\varphi \\right)}&\\sin{\\left(\\varphi \\right)}&0\\\\- \\sin{\\left(\\varphi \\right)}&\\cos{\\left(\\varphi \\right)}&0\\\\0&0&1\\end{array}\\right]$\n"
      ],
      "text/plain": [
       "3×3 Matrix{Sym}:\n",
       "  cos(varphi)  sin(varphi)  0\n",
       " -sin(varphi)  cos(varphi)  0\n",
       "            0            0  1"
      ]
     },
     "execution_count": 6,
     "metadata": {},
     "output_type": "execute_result"
    }
   ],
   "source": [
    "M_z =  [cos(var)   sin(var) 0;\n",
    "        -sin(var)  cos(var) 0;\n",
    "        0         0       1]"
   ]
  },
  {
   "cell_type": "markdown",
   "metadata": {},
   "source": [
    "同理可得坐标轴绕x轴转动$\\varphi$的转换矩阵M_x可以表示为："
   ]
  },
  {
   "cell_type": "code",
   "execution_count": 7,
   "metadata": {},
   "outputs": [
    {
     "data": {
      "text/latex": [
       "$\\left[ \\begin{array}{rrr}1&0&0\\\\0&\\cos{\\left(\\varphi \\right)}&\\sin{\\left(\\varphi \\right)}\\\\0&- \\sin{\\left(\\varphi \\right)}&\\cos{\\left(\\varphi \\right)}\\end{array}\\right]$\n"
      ],
      "text/plain": [
       "3×3 Matrix{Sym}:\n",
       " 1             0            0\n",
       " 0   cos(varphi)  sin(varphi)\n",
       " 0  -sin(varphi)  cos(varphi)"
      ]
     },
     "execution_count": 7,
     "metadata": {},
     "output_type": "execute_result"
    }
   ],
   "source": [
    "M_x =  [1   0          0;\n",
    "        0   cos(var)   sin(var);\n",
    "        0   -sin(var)  cos(var)]"
   ]
  },
  {
   "cell_type": "markdown",
   "metadata": {},
   "source": [
    "坐标轴绕y轴转动$\\varphi$的转换矩阵M_y与M_x, M_z不同，由于坐标系的原因，旋转$\\varphi$°在极坐标系下表现为变化$-\\varphi$°，画图可以更直观地看出\n",
    "\n",
    "故其转换矩阵M_y表示为："
   ]
  },
  {
   "cell_type": "code",
   "execution_count": 8,
   "metadata": {},
   "outputs": [
    {
     "data": {
      "text/latex": [
       "$\\left[ \\begin{array}{rrr}\\cos{\\left(\\varphi \\right)}&0&- \\sin{\\left(\\varphi \\right)}\\\\0&1&0\\\\\\sin{\\left(\\varphi \\right)}&0&\\cos{\\left(\\varphi \\right)}\\end{array}\\right]$\n"
      ],
      "text/plain": [
       "3×3 Matrix{Sym}:\n",
       " cos(varphi)  0  -sin(varphi)\n",
       "           0  1             0\n",
       " sin(varphi)  0   cos(varphi)"
      ]
     },
     "execution_count": 8,
     "metadata": {},
     "output_type": "execute_result"
    }
   ],
   "source": [
    "M_y =  [cos(var)   0  sin(-var);\n",
    "        0          1  0   ;\n",
    "        -sin(-var)  0  cos(var)]"
   ]
  },
  {
   "cell_type": "markdown",
   "metadata": {},
   "source": [
    "风轴系to体轴系，就是将风轴系先绕$Z_a$轴旋转$-\\beta$，再绕$Y_b$轴旋转$\\alpha$，就能与体轴系重合\n",
    "\n",
    "设绕$Z_a$轴旋转的转换矩阵为M_z矩阵，绕$Y_b$轴旋转的转换矩阵为M_y\n",
    "\n",
    "则M_z可以表示为"
   ]
  },
  {
   "cell_type": "code",
   "execution_count": 9,
   "metadata": {},
   "outputs": [
    {
     "data": {
      "text/latex": [
       "$\\left[ \\begin{array}{rrr}\\cos{\\left(\\beta \\right)}&- \\sin{\\left(\\beta \\right)}&0\\\\\\sin{\\left(\\beta \\right)}&\\cos{\\left(\\beta \\right)}&0\\\\0&0&1\\end{array}\\right]$\n"
      ],
      "text/plain": [
       "3×3 Matrix{Sym}:\n",
       " cos(β)  -sin(β)  0\n",
       " sin(β)   cos(β)  0\n",
       "         0           0  1"
      ]
     },
     "execution_count": 9,
     "metadata": {},
     "output_type": "execute_result"
    }
   ],
   "source": [
    "M_z =  [cos(-b)   sin(-b) 0;\n",
    "        -sin(-b)  cos(-b) 0;\n",
    "        0         0       1]"
   ]
  },
  {
   "cell_type": "markdown",
   "metadata": {},
   "source": [
    "M_y可以表示为(注意：此时sin(a)的符号与x,z中的符号相反，原因和右手坐标系有关)"
   ]
  },
  {
   "cell_type": "code",
   "execution_count": 10,
   "metadata": {},
   "outputs": [
    {
     "data": {
      "text/latex": [
       "$\\left[ \\begin{array}{rrr}\\cos{\\left(\\alpha \\right)}&0&- \\sin{\\left(\\alpha \\right)}\\\\0&1&0\\\\\\sin{\\left(\\alpha \\right)}&0&\\cos{\\left(\\alpha \\right)}\\end{array}\\right]$\n"
      ],
      "text/plain": [
       "3×3 Matrix{Sym}:\n",
       " cos(α)  0  -sin(α)\n",
       "          0  1            0\n",
       " sin(α)  0   cos(α)"
      ]
     },
     "execution_count": 10,
     "metadata": {},
     "output_type": "execute_result"
    }
   ],
   "source": [
    "M_y =  [cos(a)   0  -sin(a);\n",
    "        0          1  0   ;\n",
    "        sin(a)  0  cos(a)]"
   ]
  },
  {
   "cell_type": "markdown",
   "metadata": {},
   "source": [
    "则整体转换矩阵$M$可以表示为："
   ]
  },
  {
   "cell_type": "code",
   "execution_count": 11,
   "metadata": {},
   "outputs": [
    {
     "data": {
      "text/latex": [
       "$\\left[ \\begin{array}{rrr}\\cos{\\left(\\alpha \\right)} \\cos{\\left(\\beta \\right)}&- \\sin{\\left(\\beta \\right)} \\cos{\\left(\\alpha \\right)}&- \\sin{\\left(\\alpha \\right)}\\\\\\sin{\\left(\\beta \\right)}&\\cos{\\left(\\beta \\right)}&0\\\\\\sin{\\left(\\alpha \\right)} \\cos{\\left(\\beta \\right)}&- \\sin{\\left(\\alpha \\right)} \\sin{\\left(\\beta \\right)}&\\cos{\\left(\\alpha \\right)}\\end{array}\\right]$\n"
      ],
      "text/plain": [
       "3×3 Matrix{Sym}:\n",
       " cos(α)⋅cos(β)  -sin(β)⋅cos(α)  -sin(α)\n",
       "            sin(β)              cos(β)            0\n",
       " sin(α)⋅cos(β)  -sin(α)⋅sin(β)   cos(α)"
      ]
     },
     "execution_count": 11,
     "metadata": {},
     "output_type": "execute_result"
    }
   ],
   "source": [
    "M = M_y * M_z"
   ]
  },
  {
   "cell_type": "markdown",
   "metadata": {},
   "source": [
    "# fluent中常用到的坐标变换"
   ]
  },
  {
   "cell_type": "markdown",
   "metadata": {},
   "source": [
    "在使用fluent的过程中，我们往往不移动网格，而是通过改变来流方向的方式来达到改变飞机飞行姿态的目的\n",
    "\n",
    "fluent中的坐标系都是由第一次导入的网格所决定的，网格的坐标系又常常是由飞机的cad模型来决定的，而飞机在建模的过程中有时并不是严格按照机体坐标系来建模的\n",
    "\n",
    "所以这就需要一次从机体坐标系到fluent坐标系的转换"
   ]
  },
  {
   "cell_type": "markdown",
   "metadata": {},
   "source": [
    "进行fluent计算很多时候是为了获得最终的升力、阻力、侧向力以及力矩，这些力和力矩自身是定义在风轴系上的。\n",
    "\n",
    "例如需要检测升力，其在风轴系上的方向向量就应该是："
   ]
  },
  {
   "cell_type": "code",
   "execution_count": 12,
   "metadata": {},
   "outputs": [
    {
     "data": {
      "text/plain": [
       "3-element Vector{Int64}:\n",
       "  0\n",
       "  0\n",
       " -1"
      ]
     },
     "execution_count": 12,
     "metadata": {},
     "output_type": "execute_result"
    }
   ],
   "source": [
    "L_a = [0;0;-1]"
   ]
  },
  {
   "cell_type": "markdown",
   "metadata": {},
   "source": [
    "阻力在风轴系上的方向向量是："
   ]
  },
  {
   "cell_type": "code",
   "execution_count": 13,
   "metadata": {},
   "outputs": [
    {
     "data": {
      "text/plain": [
       "3-element Vector{Int64}:\n",
       " -1\n",
       "  0\n",
       "  0"
      ]
     },
     "execution_count": 13,
     "metadata": {},
     "output_type": "execute_result"
    }
   ],
   "source": [
    "D_a = [-1;0;0]"
   ]
  },
  {
   "cell_type": "markdown",
   "metadata": {},
   "source": [
    "侧力在风轴系上的方向向量是：（存疑）"
   ]
  },
  {
   "cell_type": "code",
   "execution_count": 14,
   "metadata": {},
   "outputs": [
    {
     "data": {
      "text/plain": [
       "3-element Vector{Int64}:\n",
       " 0\n",
       " 1\n",
       " 0"
      ]
     },
     "execution_count": 14,
     "metadata": {},
     "output_type": "execute_result"
    }
   ],
   "source": [
    "C_a = [0;1;0]"
   ]
  },
  {
   "cell_type": "markdown",
   "metadata": {},
   "source": [
    "假设我现在有一个飞机的网格模型，其x轴是飞机轴线，方向从机头指向机尾；y轴垂直于飞机对称平面指向右翼；z轴由右手定则确定，垂直于oxy平面向上\n",
    "\n",
    "则机体坐标系需要绕y轴旋转180°就能与飞机坐标系重合，则转换矩阵M_a可以表示为："
   ]
  },
  {
   "cell_type": "code",
   "execution_count": 15,
   "metadata": {},
   "outputs": [
    {
     "data": {
      "text/plain": [
       "3×3 Matrix{Int64}:\n",
       " -1  0   0\n",
       "  0  1   0\n",
       "  0  0  -1"
      ]
     },
     "execution_count": 15,
     "metadata": {},
     "output_type": "execute_result"
    }
   ],
   "source": [
    "M_a = [-1 0 0;\n",
    "       0  1 0;\n",
    "       0  0 -1]"
   ]
  },
  {
   "cell_type": "markdown",
   "metadata": {},
   "source": [
    "所以从气流坐标系转换到飞机坐标系的总转换矩阵MM可以表示为："
   ]
  },
  {
   "cell_type": "code",
   "execution_count": 16,
   "metadata": {},
   "outputs": [
    {
     "data": {
      "text/latex": [
       "$\\left[ \\begin{array}{rrr}- \\cos{\\left(\\alpha \\right)} \\cos{\\left(\\beta \\right)}&\\sin{\\left(\\beta \\right)} \\cos{\\left(\\alpha \\right)}&\\sin{\\left(\\alpha \\right)}\\\\\\sin{\\left(\\beta \\right)}&\\cos{\\left(\\beta \\right)}&0\\\\- \\sin{\\left(\\alpha \\right)} \\cos{\\left(\\beta \\right)}&\\sin{\\left(\\alpha \\right)} \\sin{\\left(\\beta \\right)}&- \\cos{\\left(\\alpha \\right)}\\end{array}\\right]$\n"
      ],
      "text/plain": [
       "3×3 Matrix{Sym}:\n",
       " -cos(α)⋅cos(β)  sin(β)⋅cos(α)   sin(α)\n",
       "             sin(β)             cos(β)            0\n",
       " -sin(α)⋅cos(β)  sin(α)⋅sin(β)  -cos(α)"
      ]
     },
     "execution_count": 16,
     "metadata": {},
     "output_type": "execute_result"
    }
   ],
   "source": [
    "MM = M_a * M"
   ]
  },
  {
   "cell_type": "markdown",
   "metadata": {},
   "source": [
    "那么在fluent中监测升力L、阻力D以及侧力C所需输入的系数就可以表示为："
   ]
  },
  {
   "cell_type": "code",
   "execution_count": 17,
   "metadata": {},
   "outputs": [
    {
     "data": {
      "text/latex": [
       "$\\left[ \\begin{array}{r}- \\sin{\\left(\\alpha \\right)}\\\\0\\\\\\cos{\\left(\\alpha \\right)}\\end{array} \\right]$\n"
      ],
      "text/plain": [
       "3-element Vector{Sym}:\n",
       " -sin(α)\n",
       "           0\n",
       "  cos(α)"
      ]
     },
     "execution_count": 17,
     "metadata": {},
     "output_type": "execute_result"
    }
   ],
   "source": [
    "L = MM * L_a"
   ]
  },
  {
   "cell_type": "code",
   "execution_count": 18,
   "metadata": {},
   "outputs": [
    {
     "data": {
      "text/latex": [
       "$\\left[ \\begin{array}{r}\\cos{\\left(\\alpha \\right)} \\cos{\\left(\\beta \\right)}\\\\- \\sin{\\left(\\beta \\right)}\\\\\\sin{\\left(\\alpha \\right)} \\cos{\\left(\\beta \\right)}\\end{array} \\right]$\n"
      ],
      "text/plain": [
       "3-element Vector{Sym}:\n",
       " cos(α)⋅cos(β)\n",
       "           -sin(β)\n",
       " sin(α)⋅cos(β)"
      ]
     },
     "execution_count": 18,
     "metadata": {},
     "output_type": "execute_result"
    }
   ],
   "source": [
    "D = MM * D_a"
   ]
  },
  {
   "cell_type": "code",
   "execution_count": 19,
   "metadata": {},
   "outputs": [
    {
     "data": {
      "text/latex": [
       "$\\left[ \\begin{array}{r}\\sin{\\left(\\beta \\right)} \\cos{\\left(\\alpha \\right)}\\\\\\cos{\\left(\\beta \\right)}\\\\\\sin{\\left(\\alpha \\right)} \\sin{\\left(\\beta \\right)}\\end{array} \\right]$\n"
      ],
      "text/plain": [
       "3-element Vector{Sym}:\n",
       " sin(β)⋅cos(α)\n",
       "            cos(β)\n",
       " sin(α)⋅sin(β)"
      ]
     },
     "execution_count": 19,
     "metadata": {},
     "output_type": "execute_result"
    }
   ],
   "source": [
    "C = MM * C_a"
   ]
  }
 ],
 "metadata": {
  "kernelspec": {
   "display_name": "Julia 1.9.0",
   "language": "julia",
   "name": "julia-1.9"
  },
  "language_info": {
   "file_extension": ".jl",
   "mimetype": "application/julia",
   "name": "julia",
   "version": "1.9.0"
  },
  "orig_nbformat": 4
 },
 "nbformat": 4,
 "nbformat_minor": 2
}
